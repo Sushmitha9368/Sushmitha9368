{
  "nbformat": 4,
  "nbformat_minor": 0,
  "metadata": {
    "colab": {
      "provenance": []
    },
    "kernelspec": {
      "name": "python3",
      "display_name": "Python 3"
    },
    "language_info": {
      "name": "python"
    }
  },
  "cells": [
    {
      "cell_type": "markdown",
      "source": [
        "**1.Define Dictionary, its properties and examples for each method.**\n",
        "\n",
        "Dictionary is a storage locator to store the key:value pairs. It is used to store collection of unordered and mutable collection of key:value pairs by using square braces [].\n",
        "\n",
        "Properties:\n",
        "\n",
        "1)Unordered: dictionaries do not store items in a definite order or pattern.\n",
        "\n",
        "        dict={\"my_name\":\"sushmitha\",\"age\":22,\"student\":True,\"Height\":5.4}\n",
        "        \n",
        "2)Mutable/Changable: Dictionaries are changable after creation like adding and removing.\n",
        "\n",
        "        dict={\"my_name\":\"sushmitha\",\"age\":22,\"student\":True,\"Height\":5.4}"
      ],
      "metadata": {
        "id": "jT5cj6FEXDH2"
      }
    },
    {
      "cell_type": "code",
      "source": [
        "dict={\"my_name\":\"sushmitha\",\"age\":22,\"student\":True,\"Height\":5.4}\n",
        "dict[\"age\"]=23\n",
        "print(dict)"
      ],
      "metadata": {
        "colab": {
          "base_uri": "https://localhost:8080/"
        },
        "id": "3KZ7RmhoXTW0",
        "outputId": "9c8b7c1a-394a-46b5-8f5d-56296bcc230a"
      },
      "execution_count": null,
      "outputs": [
        {
          "output_type": "stream",
          "name": "stdout",
          "text": [
            "{'my_name': 'sushmitha', 'age': 23, 'student': True, 'Height': 5.4}\n"
          ]
        }
      ]
    },
    {
      "cell_type": "markdown",
      "source": [
        "3)Duplicates not allowed: Dictionaries cannot have two items with the same key."
      ],
      "metadata": {
        "id": "jCkktirLXbP_"
      }
    },
    {
      "cell_type": "code",
      "source": [
        "dict={\"my_name\":\"sushmitha\",\"age\":22,\"student\":True,\"Height\":5.4,\"Height\":4.9}\n",
        "print(dict)\n",
        "print(len(dict)) # \"height\" key name is duplicate python compiler not considered"
      ],
      "metadata": {
        "colab": {
          "base_uri": "https://localhost:8080/"
        },
        "id": "OweV4oOEXgqd",
        "outputId": "c9592382-c63b-4506-f293-9689e888fe40"
      },
      "execution_count": null,
      "outputs": [
        {
          "output_type": "stream",
          "name": "stdout",
          "text": [
            "{'my_name': 'sushmitha', 'age': 22, 'student': True, 'Height': 4.9}\n",
            "4\n"
          ]
        }
      ]
    },
    {
      "cell_type": "markdown",
      "source": [
        "4)Not Indexed and slicing: Dictionaries do not allow indexing and slicing."
      ],
      "metadata": {
        "id": "H2XmL19iXoz7"
      }
    },
    {
      "cell_type": "code",
      "source": [
        "dict={\"my_name\":\"sushmitha\",\"age\":22,\"student\":True,\"Height\":5.4}\n",
        "#print(dict[0]) #not access the dictionary items by indexing and slicing\n",
        "dict[\"student\"]=False\n",
        "print(dict)"
      ],
      "metadata": {
        "colab": {
          "base_uri": "https://localhost:8080/"
        },
        "id": "iafrKSpWXpye",
        "outputId": "a465e43c-386f-49c9-db33-7f2046d08521"
      },
      "execution_count": null,
      "outputs": [
        {
          "output_type": "stream",
          "name": "stdout",
          "text": [
            "{'my_name': 'sushmitha', 'age': 22, 'student': False, 'Height': 5.4}\n"
          ]
        }
      ]
    },
    {
      "cell_type": "markdown",
      "source": [
        ")Heterogenous type: dictionary items both keys and values can be of different data types.\n",
        "\n",
        "                dict={\"my_name\":\"sushmitha\",\"age\":22,\"student\":True,\"Height\":5.4}\n",
        "**2.Explore all the methods in the dictionary and write example for each method?**\n",
        "\n",
        "Methods of Dictionary:\n",
        "\n",
        "* get(): Returns the value of specified key if exist otherwise returns default\n",
        "\n"
      ],
      "metadata": {
        "id": "lp-WAVFTXvyt"
      }
    },
    {
      "cell_type": "code",
      "source": [
        "dict={\"my_name\":\"sushmitha\",\"age\":22,\"age\":23,\"student\":True,\"Height\":5.4,\"gender\":\"female\"}\n",
        "print(dict.get(\"age\"))\n",
        "print(dict.get(\"weight\"))# weight key name is doesnt exists in dict"
      ],
      "metadata": {
        "colab": {
          "base_uri": "https://localhost:8080/"
        },
        "id": "Z9STmyzOX_Ps",
        "outputId": "30bfafba-2538-4511-9586-48a3f4269fe2"
      },
      "execution_count": null,
      "outputs": [
        {
          "output_type": "stream",
          "name": "stdout",
          "text": [
            "23\n",
            "None\n"
          ]
        }
      ]
    },
    {
      "cell_type": "markdown",
      "source": [
        "**keys():** Displays a list of all keys in the  dictionary.\n",
        "\n",
        "**values():** Displays a list of all the values in the dictionary.\n",
        "\n",
        "**items():** Displays a list of all key value pairs as tuples."
      ],
      "metadata": {
        "id": "whs2JhLXYFN5"
      }
    },
    {
      "cell_type": "code",
      "source": [
        "dict={\"my_name\":\"sushmitha\",\"age\":22,\"student\":True,\"Height\":5.4}\n",
        "print(dict.keys())\n",
        "print(dict.values())\n",
        "print(dict.items())\n",
        "dict.update({\"gender\":\"female\"})"
      ],
      "metadata": {
        "colab": {
          "base_uri": "https://localhost:8080/"
        },
        "id": "qYYit3efYNRA",
        "outputId": "aeace421-d249-4fff-bc16-a554eb1b3f5d"
      },
      "execution_count": null,
      "outputs": [
        {
          "output_type": "stream",
          "name": "stdout",
          "text": [
            "dict_keys(['my_name', 'age', 'student', 'Height'])\n",
            "dict_values(['sushmitha', 22, True, 5.4])\n",
            "dict_items([('my_name', 'sushmitha'), ('age', 22), ('student', True), ('Height', 5.4)])\n"
          ]
        }
      ]
    },
    {
      "cell_type": "markdown",
      "source": [
        "**Update():** update dictionary with new key value pairs."
      ],
      "metadata": {
        "id": "stRSZYfwYRP7"
      }
    },
    {
      "cell_type": "code",
      "source": [
        "dict={\"my_name\":\"sushmitha\",\"age\":22,\"student\":True,\"Height\":5.4}\n",
        "dict.update({\"city\":\"Hyderabad\"})\n",
        "print(dict)"
      ],
      "metadata": {
        "colab": {
          "base_uri": "https://localhost:8080/"
        },
        "id": "2RyxbDiFYVv9",
        "outputId": "a54bd7b4-b8e0-46e3-b7f6-4297e10061d8"
      },
      "execution_count": null,
      "outputs": [
        {
          "output_type": "stream",
          "name": "stdout",
          "text": [
            "{'my_name': 'sushmitha', 'age': 22, 'student': True, 'Height': 5.4, 'city': 'Hyderabad'}\n"
          ]
        }
      ]
    },
    {
      "cell_type": "markdown",
      "source": [
        "**pop():** Removes specified key and returns the value.if the key is not exist,it returns the default value other wise,raises a key error.\n",
        "\n",
        "**clear():** Removes all the items from dictionary.\n",
        "\n",
        "**popitem():** Remove and returns the last item from dictionary."
      ],
      "metadata": {
        "id": "lCHvbP2pYaAy"
      }
    },
    {
      "cell_type": "code",
      "source": [
        "dict={\"my_name\":\"sushmitha\",\"age\":22,\"student\":True,\"Height\":5.4}\n",
        "print(dict.pop(\"my_name\")) #removes and returns specified key value pair\n",
        "print(dict)"
      ],
      "metadata": {
        "colab": {
          "base_uri": "https://localhost:8080/"
        },
        "id": "Rd_QiXXIYhoW",
        "outputId": "d040a91d-bd08-4c8b-f366-a1b135aa7cdf"
      },
      "execution_count": null,
      "outputs": [
        {
          "output_type": "stream",
          "name": "stdout",
          "text": [
            "sushmitha\n",
            "{'age': 22, 'student': True, 'Height': 5.4}\n"
          ]
        }
      ]
    },
    {
      "cell_type": "code",
      "source": [
        "dict={\"my_name\":\"sushmitha\",\"age\":22,\"student\":True,\"Height\":5.4}\n",
        "print(dict.popitem())  #removes and return  last item\n",
        "print(dict)\n",
        "dict.clear()\n",
        "print(dict)"
      ],
      "metadata": {
        "colab": {
          "base_uri": "https://localhost:8080/"
        },
        "id": "ft2kZjYIYqs5",
        "outputId": "3057706c-b0e1-4a71-89af-efeb114da63a"
      },
      "execution_count": null,
      "outputs": [
        {
          "output_type": "stream",
          "name": "stdout",
          "text": [
            "('Height', 5.4)\n",
            "{'my_name': 'sushmitha', 'age': 22, 'student': True}\n",
            "{}\n"
          ]
        }
      ]
    },
    {
      "cell_type": "markdown",
      "source": [
        "**setdefault():** Returns value of sepcified key.if not exists it insert the key with the specified default value.\n",
        "\n",
        "**copy():** Returns the copy of the dictionary.\n",
        "\n",
        "**fromkeys:** Creates a dictionary with keys from seq and values set to value."
      ],
      "metadata": {
        "id": "Mr0xs6dRYsXs"
      }
    },
    {
      "cell_type": "code",
      "source": [
        "dict={\"my_name\":\"sushmitha\",\"age\":22,\"student\":True,\"Height\":5.4}\n",
        "print(dict.setdefault(\"age\"))\n",
        "print(dict)\n",
        "dict.setdefault(\"Gender\",\"female\")\n",
        "print(dict)\n",
        "dict2=dict.copy()\n",
        "print(dict2)\n"
      ],
      "metadata": {
        "colab": {
          "base_uri": "https://localhost:8080/"
        },
        "id": "PolygO-tYw54",
        "outputId": "48c206cd-83df-4540-85d3-339293d18ac7"
      },
      "execution_count": null,
      "outputs": [
        {
          "output_type": "stream",
          "name": "stdout",
          "text": [
            "22\n",
            "{'my_name': 'sushmitha', 'age': 22, 'student': True, 'Height': 5.4}\n",
            "{'my_name': 'sushmitha', 'age': 22, 'student': True, 'Height': 5.4, 'Gender': 'female'}\n",
            "{'my_name': 'sushmitha', 'age': 22, 'student': True, 'Height': 5.4, 'Gender': 'female'}\n"
          ]
        }
      ]
    },
    {
      "cell_type": "code",
      "source": [
        "keys=[\"name\",\"city\"]\n",
        "values=\"abcd\"\n",
        "dict=dict.fromkeys(keys,values)\n",
        "print(dict)"
      ],
      "metadata": {
        "colab": {
          "base_uri": "https://localhost:8080/"
        },
        "id": "7FfxBYXEY4dA",
        "outputId": "15ec7de1-7228-478d-99ff-9d989ede1d8a"
      },
      "execution_count": null,
      "outputs": [
        {
          "output_type": "stream",
          "name": "stdout",
          "text": [
            "{'name': 'abcd', 'city': 'abcd'}\n"
          ]
        }
      ]
    },
    {
      "cell_type": "markdown",
      "source": [
        "**3.Create a Python program that defines a dictionary to store information about your favorite book. Include the title, author, publication year, and genre as key-value pairs. Print out the dictionary.and do at least 5 dictionary methods on it.**\n",
        "\n"
      ],
      "metadata": {
        "id": "g3pnETQKY6N6"
      }
    },
    {
      "cell_type": "code",
      "source": [
        "favorite_book={\"title\":\"The it girl\",\"author\":\"Ruth ware\",\"Year\":2022,\"genre\":\"Thriller\"}\n",
        "print(favorite_book)\n",
        "print(favorite_book.get(\"author\"))                #get()\n",
        "favorite_book.update({\"genre\":\"comedy\"})          #update()\n",
        "print(favorite_book)\n",
        "print(favorite_book.keys())                       #keys()\n",
        "print(favorite_book.values())                     #values()\n",
        "print(favorite_book.items())                      #items()"
      ],
      "metadata": {
        "colab": {
          "base_uri": "https://localhost:8080/"
        },
        "id": "QhVeubvxZBwA",
        "outputId": "070de556-e4b1-40a7-c757-edd8ac5c1ed3"
      },
      "execution_count": null,
      "outputs": [
        {
          "output_type": "stream",
          "name": "stdout",
          "text": [
            "{'title': 'The it girl', 'author': 'Ruth ware', 'Year': 2022, 'genre': 'Thriller'}\n",
            "Ruth ware\n",
            "{'title': 'The it girl', 'author': 'Ruth ware', 'Year': 2022, 'genre': 'comedy'}\n",
            "dict_keys(['title', 'author', 'Year', 'genre'])\n",
            "dict_values(['The it girl', 'Ruth ware', 2022, 'comedy'])\n",
            "dict_items([('title', 'The it girl'), ('author', 'Ruth ware'), ('Year', 2022), ('genre', 'comedy')])\n"
          ]
        }
      ]
    },
    {
      "cell_type": "markdown",
      "source": [
        "**4. Write a Python program that simulates a simple dictionary for translating English words to Spanish. Define a dictionary containing a few English words as keys and their corresponding Spanish translations as values. Allow users to enter an English word, and then display its Spanish translation if it exists in the dictionary.(use google for English to Spanish translator)**\n"
      ],
      "metadata": {
        "id": "Utdz2hoKZHTU"
      }
    },
    {
      "cell_type": "code",
      "source": [
        "dict={\"hello\":\"hola\",\"thank you\":\"gracias\",\"yes\":\"si\",\"no\":\"no\"}\n",
        "print(dict)\n",
        "user=input(\"Enter an English word:\").lower()\n",
        "print(f\"The Spanish translation is:{dict.get(user,'Not found')}\")"
      ],
      "metadata": {
        "colab": {
          "base_uri": "https://localhost:8080/"
        },
        "id": "srLEy6QNZMUa",
        "outputId": "6bc25e31-a531-4701-d6fe-4b83e9b0ce33"
      },
      "execution_count": null,
      "outputs": [
        {
          "output_type": "stream",
          "name": "stdout",
          "text": [
            "Enter an English word:yes\n",
            "The Spanish translation is:si\n"
          ]
        }
      ]
    },
    {
      "cell_type": "markdown",
      "source": [
        "**5.Create a Python program that stores the grades of five students in a dictionary. Allow users to input the names of the students and their respective grades. Calculate and display the average grade of the students.**"
      ],
      "metadata": {
        "id": "Cf8nurQfZsOO"
      }
    },
    {
      "cell_type": "code",
      "source": [
        "n1=input(\"enter name of the student 1 is:\")\n",
        "g1=int(input(\"enter the grade of {n1} is:\"))\n",
        "n2=input(\"enter name of the student 2 is:\")\n",
        "g2=int(input(\"enter the grade of {n2} is:\"))\n",
        "n3=input(\"enter name of student 3 is:\")\n",
        "g3=int(input(\"enter the grade of {n3} is:\"))\n",
        "n4=input(\"enter name of the student 4 is:\")\n",
        "g4=int(input(\"enter the grade of {n4} is:\"))\n",
        "n5=input(\"enter name of the student 5 is:\")\n",
        "g5=int(input(\"enter the grade of {n5} is:\"))\n",
        "dict={n1:g1,n2:g2,n3:g3,n4:g4,n5:g5}\n",
        "print(dict)\n",
        "avg=(g1+g2+g3+g4+g5)/5\n",
        "print(f\"The average grade of the students is:{avg}\")\n"
      ],
      "metadata": {
        "colab": {
          "base_uri": "https://localhost:8080/"
        },
        "id": "N9IOi6tJZzM9",
        "outputId": "6d4666a4-32d3-460e-a5f5-4ac7289bf3c9"
      },
      "execution_count": null,
      "outputs": [
        {
          "output_type": "stream",
          "name": "stdout",
          "text": [
            "enter name of the student 1 is:sushmitha\n",
            "enter the grade of {n1} is:98\n",
            "enter name of the student 2 is:sudha\n",
            "enter the grade of {n2} is:96\n",
            "enter name of student 3 is:ram\n",
            "enter the grade of {n3} is:79\n",
            "enter name of the student 4 is:anil\n",
            "enter the grade of {n4} is:88\n",
            "enter name of the student 5 is:uday\n",
            "enter the grade of {n5} is:90\n",
            "{'sushmitha': 98, 'sudha': 96, 'ram': 79, 'anil': 88, 'uday': 90}\n",
            "The average grade of the students is:90.2\n"
          ]
        }
      ]
    },
    {
      "cell_type": "markdown",
      "source": [
        "**6.Build a basic contact list using a dictionary. Initially, the dictionary can be empty. Allow users to add new contacts with names and phone numbers. Users should also be able to search for contacts by name and display their phone numbers(use in operator).**\n"
      ],
      "metadata": {
        "id": "kYLr7mijivik"
      }
    },
    {
      "cell_type": "code",
      "source": [
        "contacts={}\n",
        "name=input(\"Enter the name:\")\n",
        "phone=int(input(\"Enter the phone number:\"))\n",
        "contacts[name]=phone\n",
        "print(name)\n",
        "search=input(\"Enter the name to search:\")\n",
        "if search in contacts:\n",
        "  print(f\"{search}:{contacts[search]}\")\n",
        "else:\n",
        "  print(\"Not found\")\n"
      ],
      "metadata": {
        "id": "iLMWrTAPi1m6",
        "colab": {
          "base_uri": "https://localhost:8080/"
        },
        "outputId": "2c82f7ee-4891-4d53-a2f1-02c77e95fae8"
      },
      "execution_count": null,
      "outputs": [
        {
          "output_type": "stream",
          "name": "stdout",
          "text": [
            "Enter the name:sushmitha\n",
            "Enter the phone number:9876543210\n",
            "sushmitha\n",
            "Enter the name to search:sushmitha\n",
            "sushmitha:9876543210\n"
          ]
        }
      ]
    },
    {
      "cell_type": "markdown",
      "source": [
        "**Write a Python program that defines a dictionary containing the names of fruits as keys and their corresponding colors as values (e.g., 'apple': 'red').Do atleast 5 dictionary methods on it.**\n",
        "\n"
      ],
      "metadata": {
        "id": "3jayT6_ajToX"
      }
    },
    {
      "cell_type": "code",
      "source": [
        "dict={\"apple\":\"red\",\"banana\":\"yellow\",\"orange\":\"orange\",\"kiwi\":\"green\"}\n",
        "print(dict.get(\"apple\"))\n",
        "print(dict.keys())\n",
        "print(dict.values())\n",
        "print(dict.items())\n",
        "dict.update({\"mango\":\"orange\"})\n",
        "print(dict)\n"
      ],
      "metadata": {
        "colab": {
          "base_uri": "https://localhost:8080/"
        },
        "id": "tdeYJYVNjaze",
        "outputId": "6cfe516a-5dd6-4dbf-a649-2020a503f304"
      },
      "execution_count": null,
      "outputs": [
        {
          "output_type": "stream",
          "name": "stdout",
          "text": [
            "red\n",
            "dict_keys(['apple', 'banana', 'orange', 'kiwi'])\n",
            "dict_values(['red', 'yellow', 'orange', 'green'])\n",
            "dict_items([('apple', 'red'), ('banana', 'yellow'), ('orange', 'orange'), ('kiwi', 'green')])\n",
            "{'apple': 'red', 'banana': 'yellow', 'orange': 'orange', 'kiwi': 'green', 'mango': 'orange'}\n"
          ]
        }
      ]
    }
  ]
}