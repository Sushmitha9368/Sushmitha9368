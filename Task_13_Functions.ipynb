{
  "nbformat": 4,
  "nbformat_minor": 0,
  "metadata": {
    "colab": {
      "provenance": []
    },
    "kernelspec": {
      "name": "python3",
      "display_name": "Python 3"
    },
    "language_info": {
      "name": "python"
    }
  },
  "cells": [
    {
      "cell_type": "markdown",
      "source": [
        "**1.Write a function to get the maximum of 3 numbers.**\n"
      ],
      "metadata": {
        "id": "z24wVOIUQI48"
      }
    },
    {
      "cell_type": "code",
      "source": [
        "def max(a,b,c):\n",
        "  if a>b and a>c:\n",
        "    return a\n",
        "  elif b>a and b>c:\n",
        "    return b\n",
        "  else:\n",
        "    return c\n",
        "res=max(100,500,300)\n",
        "print(res)"
      ],
      "metadata": {
        "colab": {
          "base_uri": "https://localhost:8080/"
        },
        "id": "gHn6SvvhQVV5",
        "outputId": "d7597270-0cba-42d2-8ec0-8044415ab340"
      },
      "execution_count": 5,
      "outputs": [
        {
          "output_type": "stream",
          "name": "stdout",
          "text": [
            "500\n"
          ]
        }
      ]
    },
    {
      "cell_type": "markdown",
      "source": [
        "**2.Write a function to check if the given number if even or not**\n",
        "          \n",
        "           Example:\n",
        "           is_even(10) , then o/p: even\n",
        "           is_even(23), then o/p: odd\n"
      ],
      "metadata": {
        "id": "wdY48Hk-RBzZ"
      }
    },
    {
      "cell_type": "code",
      "source": [
        "def is_even(n):\n",
        "  if n%2==0:\n",
        "    return 'even'\n",
        "  else:\n",
        "    return 'odd'\n",
        "res1=is_even(10)\n",
        "res2=is_even(23)\n",
        "print(res1)\n",
        "print(res2)"
      ],
      "metadata": {
        "colab": {
          "base_uri": "https://localhost:8080/"
        },
        "id": "cSwnKIsKRJuR",
        "outputId": "3eb05866-eeea-4d15-9a0f-f08c79c2b5d5"
      },
      "execution_count": 6,
      "outputs": [
        {
          "output_type": "stream",
          "name": "stdout",
          "text": [
            "even\n",
            "odd\n"
          ]
        }
      ]
    },
    {
      "cell_type": "markdown",
      "source": [
        "**3.Write a program to get the sum of all the values in given list,**\n",
        "\n",
        " Example:\n",
        "\n",
        "       my_sum([1,2,3,4,5]), then o/p: 15\n",
        "\n",
        "       my_sum([10,11,12]), then o/p: 33\n"
      ],
      "metadata": {
        "id": "d2dSMy_UR0mc"
      }
    },
    {
      "cell_type": "code",
      "source": [
        "# sol-1:Using for loop:\n",
        "\n",
        "def myfunc(l):\n",
        "  sum=0\n",
        "  for i in l:\n",
        "    sum=sum+i\n",
        "  return sum\n",
        "res1=myfunc([1,2,3,4,5])\n",
        "res2=myfunc([10,11,12])\n",
        "print(res1)\n",
        "print(res2)\n",
        "\n"
      ],
      "metadata": {
        "colab": {
          "base_uri": "https://localhost:8080/"
        },
        "id": "dAqciPoPR_CR",
        "outputId": "88231217-69cc-42b3-c78d-576172f91e8a"
      },
      "execution_count": 9,
      "outputs": [
        {
          "output_type": "stream",
          "name": "stdout",
          "text": [
            "15\n",
            "33\n"
          ]
        }
      ]
    },
    {
      "cell_type": "code",
      "source": [
        "#sol-2:Using while loop\n",
        "\n",
        "def myfunc(l):\n",
        "  sum=0\n",
        "  i=0\n",
        "  while i<len(l):\n",
        "    sum=sum+l[i]\n",
        "    i=i+1\n",
        "  return sum\n",
        "lst1=myfunc([1,2,3,4,5])\n",
        "lst2=myfunc([10,11,12])\n",
        "print(lst1)\n",
        "print(lst2)\n",
        ""
      ],
      "metadata": {
        "colab": {
          "base_uri": "https://localhost:8080/"
        },
        "id": "oF73vbLTTi4C",
        "outputId": "f6885732-97c0-4982-c3d7-5573e55542e3"
      },
      "execution_count": 13,
      "outputs": [
        {
          "output_type": "stream",
          "name": "stdout",
          "text": [
            "15\n",
            "33\n"
          ]
        }
      ]
    },
    {
      "cell_type": "code",
      "source": [
        "#sol-3:Using conditional stmts:\n",
        "\n",
        "def myfunc(l):\n",
        "  if type(l)==list:\n",
        "    sum=0\n",
        "    for i in l:\n",
        "      sum=sum+i\n",
        "    return sum\n",
        "  else:\n",
        "    return 'invalid input'\n",
        "lst1=myfunc([1,2,3,4,5])\n",
        "lst2=myfunc([10,11,12])\n",
        "print(lst1)\n",
        "print(lst2)\n",
        "\n"
      ],
      "metadata": {
        "colab": {
          "base_uri": "https://localhost:8080/"
        },
        "id": "L7-2lCpBUjw1",
        "outputId": "85d1a2ff-8536-4d5d-86e1-e262a9f11503"
      },
      "execution_count": 14,
      "outputs": [
        {
          "output_type": "stream",
          "name": "stdout",
          "text": [
            "15\n",
            "33\n"
          ]
        }
      ]
    },
    {
      "cell_type": "markdown",
      "source": [
        "**4.Construct your own function my_range() which acts as range() to print numbers in forward direction (step is positive) and backward direction(step is negative) with given start,stop and step as parameters.**\n",
        "\n",
        "eg:\n",
        "\n",
        "my_range(1,10,1), then o/p= 1,2,3,4,5,6,7,8,9\n",
        "\n",
        "my_range(1,10,2), then o/p= 1,3,5,7,9\n",
        "\n",
        "my_range(10,1,-1), then o/p = 10,9,8,7,6,5,4,3,2\n",
        "\n",
        "my_range(10,1,-2), then o/p = 10,8,6,4,2\n"
      ],
      "metadata": {
        "id": "svMouatoVFxG"
      }
    },
    {
      "cell_type": "code",
      "source": [
        "def my_range(start,stop,step):\n",
        "  if step==0:\n",
        "    pass\n",
        "  elif step>0:\n",
        "    for i in range(start,stop,step):\n",
        "      print(i,end=',')\n",
        "  elif step<0:\n",
        "    for i in range(start,stop,step):\n",
        "      print(i,end=',')\n",
        "  else:\n",
        "    pass\n",
        "my_range(1,10,1)\n",
        "print()\n",
        "my_range(1,10,2)\n",
        "print()\n",
        "my_range(10,1,-1)\n",
        "print()\n",
        "my_range(10,1,-2)\n"
      ],
      "metadata": {
        "colab": {
          "base_uri": "https://localhost:8080/"
        },
        "id": "IPbPBdxuVPAN",
        "outputId": "a175073c-01cb-4a97-8860-1c76726f311d"
      },
      "execution_count": 60,
      "outputs": [
        {
          "output_type": "stream",
          "name": "stdout",
          "text": [
            "1,2,3,4,5,6,7,8,9,\n",
            "1,3,5,7,9,\n",
            "10,9,8,7,6,5,4,3,2,\n",
            "10,8,6,4,2,"
          ]
        }
      ]
    },
    {
      "cell_type": "markdown",
      "source": [
        "**5.Multiply numbers with given start and stop (using loops)**\n",
        "\n",
        "           Example: start=1, stop= 5, then o/p: 120\n",
        "                    \n",
        "                    start=3, stop=5, then o/p: 60\n"
      ],
      "metadata": {
        "id": "xRW1VN_5YvIU"
      }
    },
    {
      "cell_type": "code",
      "source": [
        "def myfunc(start,stop):\n",
        "  i=0\n",
        "  while start<=stop:\n",
        "    if i==0:\n",
        "      i=1\n",
        "    else:\n",
        "      i=i*start\n",
        "    start=start+1\n",
        "  return i\n",
        "r1=myfunc(1,5)\n",
        "r2=myfunc(3,5)\n",
        "print(r1)\n",
        "print(r2)"
      ],
      "metadata": {
        "colab": {
          "base_uri": "https://localhost:8080/"
        },
        "id": "6mvcjfjFY8Kb",
        "outputId": "07078431-a60a-479b-eade-83acad85d5b4"
      },
      "execution_count": 22,
      "outputs": [
        {
          "output_type": "stream",
          "name": "stdout",
          "text": [
            "120\n",
            "20\n"
          ]
        }
      ]
    },
    {
      "cell_type": "markdown",
      "source": [
        "**6.Construct a function for fibonacci series(fib()) using**\n",
        "\n",
        "           a.loops\n",
        "\n",
        "           b.recursion\n",
        "  \n",
        "  Expected o/p :\n",
        "\n",
        "fib(5), then o/p= 0 1 1 2 3\n",
        "\n",
        "fib(7), then o/p= 0 1 1 2 3 5 8\n"
      ],
      "metadata": {
        "id": "gQ-vV-7hZeFA"
      }
    },
    {
      "cell_type": "code",
      "source": [
        "#a) Using loops\n",
        "\n",
        "def fb(n):\n",
        "  a=0\n",
        "  b=1\n",
        "  i=0\n",
        "  while i<n:\n",
        "    print(a,end=' ')\n",
        "    c=a+b\n",
        "    a=b\n",
        "    b=c\n",
        "    i=i+1\n",
        "fb(5)\n",
        "print()\n",
        "fb(7)\n",
        "\n",
        "\n",
        "\n",
        "\n",
        "\n",
        ""
      ],
      "metadata": {
        "colab": {
          "base_uri": "https://localhost:8080/"
        },
        "id": "gYG-WC2DZvXq",
        "outputId": "173e16de-d811-4cc0-8997-5f520d5edde5"
      },
      "execution_count": 37,
      "outputs": [
        {
          "output_type": "stream",
          "name": "stdout",
          "text": [
            "0 1 1 2 3 \n",
            "0 1 1 2 3 5 8 "
          ]
        }
      ]
    },
    {
      "cell_type": "code",
      "source": [
        "#b)Using recursion:\n",
        "\n",
        "def fb(n):\n",
        "  if n==0:\n",
        "    return 0\n",
        "  elif n==1:\n",
        "    return 1\n",
        "  else:\n",
        "    return fb(n-2)+fb(n-1)\n",
        "for n in range(5):\n",
        "  print(fb(n),end=' ')\n",
        "print()\n",
        "for n in range(7):\n",
        "  print(fb(n),end=' ')\n",
        "\n",
        "\n",
        "\n"
      ],
      "metadata": {
        "colab": {
          "base_uri": "https://localhost:8080/"
        },
        "id": "VwEq05y7cmmp",
        "outputId": "c037484c-c2f5-4ab7-a2be-ff5b07327fb0"
      },
      "execution_count": 44,
      "outputs": [
        {
          "output_type": "stream",
          "name": "stdout",
          "text": [
            "0 1 1 2 3 \n",
            "0 1 1 2 3 5 8 "
          ]
        }
      ]
    },
    {
      "cell_type": "markdown",
      "source": [
        "**7.Create a Factorial with loops.**"
      ],
      "metadata": {
        "id": "lrHWFay8eb83"
      }
    },
    {
      "cell_type": "code",
      "source": [
        "def fact(n):\n",
        "  i=1\n",
        "  a=1\n",
        "  while i<=n:\n",
        "    a=a*i\n",
        "    i=i+1\n",
        "  return a\n",
        "res1=fact(5)\n",
        "res2=fact(4)\n",
        "print(res1,res2,sep=\",\")\n",
        ""
      ],
      "metadata": {
        "colab": {
          "base_uri": "https://localhost:8080/"
        },
        "id": "jRtfykNSeiBa",
        "outputId": "18ff41a6-f1fa-4014-86a1-c687bef6a31a"
      },
      "execution_count": 53,
      "outputs": [
        {
          "output_type": "stream",
          "name": "stdout",
          "text": [
            "120,24\n"
          ]
        }
      ]
    },
    {
      "cell_type": "markdown",
      "source": [
        "**8.**\n",
        "\n",
        "       *\n",
        "\n",
        "       * *\n",
        "\n",
        "       * * *\n",
        "\n",
        "       * * * *\n",
        "\n",
        "       * * * * *"
      ],
      "metadata": {
        "id": "QWASZXTngyCS"
      }
    },
    {
      "cell_type": "code",
      "source": [
        "def star(n):\n",
        "  i=0\n",
        "  while i<=n:\n",
        "    print('* '*i)\n",
        "    i=i+1\n",
        "star(5)\n",
        ""
      ],
      "metadata": {
        "colab": {
          "base_uri": "https://localhost:8080/"
        },
        "id": "kqJMapf6hVTI",
        "outputId": "0d880c0c-c9f8-4d83-f2a8-b90846db273b"
      },
      "execution_count": 54,
      "outputs": [
        {
          "output_type": "stream",
          "name": "stdout",
          "text": [
            "\n",
            "* \n",
            "* * \n",
            "* * * \n",
            "* * * * \n",
            "* * * * * \n"
          ]
        }
      ]
    },
    {
      "cell_type": "markdown",
      "source": [
        "**9.**\n",
        "\n",
        "5 5 5 5 5\n",
        "\n",
        "4 4 4 4 4\n",
        "\n",
        "3 3 3 3 3\n",
        "\n",
        "2 2 2 2 2\n",
        "\n",
        "1 1 1 1 1"
      ],
      "metadata": {
        "id": "9Ogxhjs0hy_X"
      }
    },
    {
      "cell_type": "code",
      "source": [
        "def num(n):\n",
        "  i=n\n",
        "  while i>=1:\n",
        "    print(str(i)*5)\n",
        "    i=i-1\n",
        "num(5)"
      ],
      "metadata": {
        "colab": {
          "base_uri": "https://localhost:8080/"
        },
        "id": "J_R6gFkxiIsO",
        "outputId": "644c422a-2504-4e7d-8dc0-dad83277f26f"
      },
      "execution_count": 63,
      "outputs": [
        {
          "output_type": "stream",
          "name": "stdout",
          "text": [
            "55555\n",
            "44444\n",
            "33333\n",
            "22222\n",
            "11111\n"
          ]
        }
      ]
    }
  ]
}