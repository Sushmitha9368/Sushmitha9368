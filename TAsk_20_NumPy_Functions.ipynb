{
  "nbformat": 4,
  "nbformat_minor": 0,
  "metadata": {
    "colab": {
      "provenance": [],
      "authorship_tag": "ABX9TyO6zaFbY52r2xwLvCkG+Sit",
      "include_colab_link": true
    },
    "kernelspec": {
      "name": "python3",
      "display_name": "Python 3"
    },
    "language_info": {
      "name": "python"
    }
  },
  "cells": [
    {
      "cell_type": "markdown",
      "metadata": {
        "id": "view-in-github",
        "colab_type": "text"
      },
      "source": [
        "<a href=\"https://colab.research.google.com/github/Sushmitha9368/Sushmitha9368/blob/main/TAsk_20_NumPy_Functions.ipynb\" target=\"_parent\"><img src=\"https://colab.research.google.com/assets/colab-badge.svg\" alt=\"Open In Colab\"/></a>"
      ]
    },
    {
      "cell_type": "code",
      "execution_count": null,
      "metadata": {
        "id": "nWB0aue--4ce"
      },
      "outputs": [],
      "source": []
    },
    {
      "cell_type": "markdown",
      "source": [
        "**1.Create a 1D array using arange().**\n",
        "\n",
        "Use the flip() function to reverse the order of elements in a 1D array.\n",
        "\n",
        "Achieve the same above output without using flip().\n"
      ],
      "metadata": {
        "id": "0WzSMa8S--IO"
      }
    },
    {
      "cell_type": "code",
      "source": [
        "import numpy as np\n",
        "arr=np.arange(1,11)\n",
        "print(arr)\n"
      ],
      "metadata": {
        "colab": {
          "base_uri": "https://localhost:8080/"
        },
        "id": "0FKsa6Mb_GsR",
        "outputId": "2b289502-afc1-4502-90bf-c1b64fbe34a3"
      },
      "execution_count": null,
      "outputs": [
        {
          "output_type": "stream",
          "name": "stdout",
          "text": [
            "[ 1  2  3  4  5  6  7  8  9 10]\n"
          ]
        }
      ]
    },
    {
      "cell_type": "code",
      "source": [
        "#flip() function used to reverse the order of elements in an array\n",
        "flip_arr=np.flip(arr)\n",
        "print(flip_arr)\n",
        "# same above output using flip\n",
        "arr1=np.flip(flip_arr)\n",
        "print(arr1)\n"
      ],
      "metadata": {
        "colab": {
          "base_uri": "https://localhost:8080/"
        },
        "id": "Ln2P9I57_f0L",
        "outputId": "a0200f11-13bf-424e-c974-911284cb52a3"
      },
      "execution_count": null,
      "outputs": [
        {
          "output_type": "stream",
          "name": "stdout",
          "text": [
            "[10  9  8  7  6  5  4  3  2  1]\n",
            "[ 1  2  3  4  5  6  7  8  9 10]\n"
          ]
        }
      ]
    },
    {
      "cell_type": "markdown",
      "source": [
        "**2.Create a boolean array indicating which elements of the above 1D array are greater than 3.**\n",
        "\n",
        "* Replace all even numbers in the array with -1.\n"
      ],
      "metadata": {
        "id": "JaFM_XUmAlhQ"
      }
    },
    {
      "cell_type": "code",
      "source": [
        "print(arr)\n",
        "bool=np.array(arr>3)\n",
        "print(bool)\n",
        "for i in range(len(arr)):\n",
        "  if arr[i]%2==0:\n",
        "    arr[i]=-1\n",
        "print(arr)\n",
        "\n"
      ],
      "metadata": {
        "colab": {
          "base_uri": "https://localhost:8080/"
        },
        "id": "udy5fz2oAsvE",
        "outputId": "a3d6ba58-9bf7-4c9f-92b8-6a8821e66fe3"
      },
      "execution_count": null,
      "outputs": [
        {
          "output_type": "stream",
          "name": "stdout",
          "text": [
            "[ 1  2  3  4  5  6  7  8  9 10]\n",
            "[False False False  True  True  True  True  True  True  True]\n",
            "[ 1 -1  3 -1  5 -1  7 -1  9 -1]\n"
          ]
        }
      ]
    },
    {
      "cell_type": "markdown",
      "source": [
        "**3.Generate a 2D array with random elements.**\n",
        "\n",
        "* Transpose the array.\n",
        "\n",
        "* Flatten the array\n",
        "\n",
        "* Include a value of 99 at index 2 in the above array.\n",
        "\n",
        "* Add a value of 100 to the end of a given array.\n",
        "\n",
        "* Delete the element at index 3 from the array.\n"
      ],
      "metadata": {
        "id": "x8aygGfwDfpH"
      }
    },
    {
      "cell_type": "code",
      "source": [
        "import numpy as np\n",
        "arr=np.random.randint(1,5,size=(3,3))\n",
        "print(arr)"
      ],
      "metadata": {
        "colab": {
          "base_uri": "https://localhost:8080/"
        },
        "id": "ivH9vlWrDtha",
        "outputId": "c2aee154-23d3-457f-ca0a-6e8fd41e32c2"
      },
      "execution_count": null,
      "outputs": [
        {
          "output_type": "stream",
          "name": "stdout",
          "text": [
            "[[2 1 3]\n",
            " [1 2 4]\n",
            " [1 1 2]]\n"
          ]
        }
      ]
    },
    {
      "cell_type": "code",
      "source": [
        "#Transpose the array\n",
        "trans=np.transpose(arr)\n",
        "print(trans)"
      ],
      "metadata": {
        "colab": {
          "base_uri": "https://localhost:8080/"
        },
        "id": "gpiKYJXzEDAs",
        "outputId": "8fe04fea-5d13-477e-bdb7-a6e3e5bfb73a"
      },
      "execution_count": null,
      "outputs": [
        {
          "output_type": "stream",
          "name": "stdout",
          "text": [
            "[[2 1 1]\n",
            " [1 2 1]\n",
            " [3 4 2]]\n"
          ]
        }
      ]
    },
    {
      "cell_type": "code",
      "source": [
        "#Flatten the array\n",
        "flat=arr.flatten()\n",
        "print(flat)"
      ],
      "metadata": {
        "colab": {
          "base_uri": "https://localhost:8080/"
        },
        "id": "vJJgOqwxEJ3Q",
        "outputId": "48c18af0-0651-4ec7-97f7-63aa9948b36f"
      },
      "execution_count": null,
      "outputs": [
        {
          "output_type": "stream",
          "name": "stdout",
          "text": [
            "[2 1 3 1 2 4 1 1 2]\n"
          ]
        }
      ]
    },
    {
      "cell_type": "code",
      "source": [
        "#replace 99 in 2nd index in above array\n",
        "flat[2]=99\n",
        "print(flat)"
      ],
      "metadata": {
        "colab": {
          "base_uri": "https://localhost:8080/"
        },
        "id": "uy7HRDImESHF",
        "outputId": "f560ba77-eda9-4efa-a3e7-e6f97ffc782e"
      },
      "execution_count": null,
      "outputs": [
        {
          "output_type": "stream",
          "name": "stdout",
          "text": [
            "[  2   1  99   4   1   1   2 100 100]\n"
          ]
        }
      ]
    },
    {
      "cell_type": "code",
      "source": [
        "#Add a value of 100 to the end of a given array.\n",
        "flat=np.append(flat,100)\n",
        "print(flat)"
      ],
      "metadata": {
        "colab": {
          "base_uri": "https://localhost:8080/"
        },
        "id": "mbyY89W_Eny6",
        "outputId": "0f4e9ff0-dcaa-43ff-9a54-2e584e572fea"
      },
      "execution_count": null,
      "outputs": [
        {
          "output_type": "stream",
          "name": "stdout",
          "text": [
            "[  2   1  99   4   1   1   2 100 100]\n"
          ]
        }
      ]
    },
    {
      "cell_type": "code",
      "source": [
        "#Delete the element at index 3 from the array.\n",
        "flat=np.delete(flat,3)\n",
        "print(flat)"
      ],
      "metadata": {
        "colab": {
          "base_uri": "https://localhost:8080/"
        },
        "id": "DjXcmfrWE87G",
        "outputId": "51afadd3-5413-4d5f-80fa-83c4902dfda8"
      },
      "execution_count": null,
      "outputs": [
        {
          "output_type": "stream",
          "name": "stdout",
          "text": [
            "[  2   1  99   4   1   1   2 100]\n"
          ]
        }
      ]
    },
    {
      "cell_type": "markdown",
      "source": [
        "**4.Create a 2D array. Iterate through the elements of the array and print elements using both nditer() and for loop.**\n",
        "\n",
        "* Generate two arrays with random float elements in it.\n",
        "\n",
        "* perform all python operations (* + - / % //).\n",
        "\n",
        "* Also apply all mathematical functions on the two arrays.\n"
      ],
      "metadata": {
        "id": "Q8AI6ga6FJTD"
      }
    },
    {
      "cell_type": "code",
      "source": [
        "import numpy as np\n",
        "arr=np.array([[1,2,3],[4,5,6],[7,8,9]])\n",
        "print(arr)\n",
        "#Iterating elements using for loop\n",
        "for i in arr:\n",
        "  for j in i:\n",
        "    print(j)\n",
        "\n"
      ],
      "metadata": {
        "colab": {
          "base_uri": "https://localhost:8080/"
        },
        "id": "wcDMwBR3FZEg",
        "outputId": "5418c82d-089e-4171-a3d8-37f25eb5acce"
      },
      "execution_count": null,
      "outputs": [
        {
          "output_type": "stream",
          "name": "stdout",
          "text": [
            "[[1 2 3]\n",
            " [4 5 6]\n",
            " [7 8 9]]\n",
            "1\n",
            "2\n",
            "3\n",
            "4\n",
            "5\n",
            "6\n",
            "7\n",
            "8\n",
            "9\n"
          ]
        }
      ]
    },
    {
      "cell_type": "code",
      "source": [
        "#Using nditer()\n",
        "for i in np.nditer(arr):\n",
        "  print(i)"
      ],
      "metadata": {
        "colab": {
          "base_uri": "https://localhost:8080/"
        },
        "id": "7t2sqWsDGj5Z",
        "outputId": "648f4945-fcb0-420d-a80c-f987003f8824"
      },
      "execution_count": null,
      "outputs": [
        {
          "output_type": "stream",
          "name": "stdout",
          "text": [
            "1\n",
            "2\n",
            "3\n",
            "4\n",
            "5\n",
            "6\n",
            "7\n",
            "8\n",
            "9\n"
          ]
        }
      ]
    },
    {
      "cell_type": "code",
      "source": [
        "#Generate two arrays with random float elements in it\n",
        "arr1=np.random.rand(3,3)\n",
        "arr2=np.random.rand(3,3)\n",
        "print(\"First Array:\",arr1)\n",
        "print(\"Second Array:\",arr2)"
      ],
      "metadata": {
        "colab": {
          "base_uri": "https://localhost:8080/"
        },
        "id": "VbElM1u1GpaM",
        "outputId": "24a70064-7aa1-44a8-b0da-9e3e6d11ee1d"
      },
      "execution_count": null,
      "outputs": [
        {
          "output_type": "stream",
          "name": "stdout",
          "text": [
            "First Array: [[0.71270235 0.30905635 0.67209278]\n",
            " [0.64231055 0.31569685 0.45056336]\n",
            " [0.74984729 0.97037099 0.86530609]]\n",
            "Second Array: [[0.42429217 0.7832853  0.16621338]\n",
            " [0.01845326 0.18180453 0.64822262]\n",
            " [0.6505906  0.99987327 0.2714345 ]]\n"
          ]
        }
      ]
    },
    {
      "cell_type": "code",
      "source": [
        "#perform all python operations (* + - / % //).\n",
        "if arr1.shape==arr2.shape:\n",
        "  print(\"Multiplication:\",arr1*arr2)\n",
        "  print(\"-------------\")\n",
        "  print(\"Addition:\",arr1+arr2)\n",
        "  print(\"-------------\")\n",
        "  print(\"Subtraction:\",arr1-arr2)\n",
        "  print(\"-------------\")\n",
        "  print(\"Division:\",arr1/arr2)\n",
        "  print(\"-------------\")\n",
        "  print(\"Modulus:\",arr1%arr2)\n",
        "  print(\"-------------\")\n",
        "  print(\"Floor Division:\",arr1//arr2)\n",
        "else:\n",
        "  print(\"Arrays are not have same shape\")"
      ],
      "metadata": {
        "colab": {
          "base_uri": "https://localhost:8080/"
        },
        "id": "3_9leXTkG60K",
        "outputId": "e1bd6855-98a6-47a7-bde2-e6f4ace1e2f1"
      },
      "execution_count": null,
      "outputs": [
        {
          "output_type": "stream",
          "name": "stdout",
          "text": [
            "Multiplication: [[0.30239402 0.2420793  0.11171081]\n",
            " [0.01185273 0.05739512 0.29206536]\n",
            " [0.4878436  0.97024802 0.23487392]]\n",
            "-------------\n",
            "Addition: [[1.13699452 1.09234166 0.83830616]\n",
            " [0.66076381 0.49750138 1.09878597]\n",
            " [1.40043789 1.97024426 1.13674059]]\n",
            "-------------\n",
            "Subtraction: [[ 0.28841018 -0.47422895  0.50587941]\n",
            " [ 0.62385728  0.13389233 -0.19765926]\n",
            " [ 0.0992567  -0.02950227  0.59387159]]\n",
            "-------------\n",
            "Division: [[ 1.6797443   0.39456422  4.04355414]\n",
            " [34.80742236  1.73646311  0.69507504]\n",
            " [ 1.15256399  0.97049399  3.18790021]]\n",
            "-------------\n",
            "Modulus: [[0.28841018 0.30905635 0.00723928]\n",
            " [0.01489958 0.13389233 0.45056336]\n",
            " [0.0992567  0.97037099 0.0510026 ]]\n",
            "-------------\n",
            "Floor Division: [[ 1.  0.  4.]\n",
            " [34.  1.  0.]\n",
            " [ 1.  0.  3.]]\n"
          ]
        }
      ]
    },
    {
      "cell_type": "code",
      "source": [
        "#Also apply all mathematical functions on the two arrays.\n",
        "#First Array\n",
        "print(\"First Array:\",arr1)\n",
        "print(\"Sum:\",np.sum(arr1))\n",
        "print(\"Min:\",np.min(arr1))\n",
        "print(\"Max:\",np.max(arr1))\n",
        "print(\"Mean:\",np.mean(arr1))\n",
        "print(\"Median:\",np.median(arr1))\n",
        "print(\"Standard Deviation:\",np.std(arr1))\n",
        "print(\"Cum sum:\",np.cumsum(arr1))\n",
        "print(\"cum prod:\",np.cumprod(arr1))\n",
        "print(\"____________________\")\n",
        "print(\"Second Array:\",arr2)\n",
        "print(\"Sum:\",np.sum(arr2))\n",
        "print(\"Min:\",np.min(arr2))\n",
        "print(\"Max:\",np.max(arr2))\n",
        "print(\"Mean:\",np.mean(arr2))\n",
        "print(\"Median:\",np.median(arr2))\n",
        "print(\"Standard Deviation:\",np.std(arr2))\n",
        "print(\"Cum sum:\",np.cumsum(arr2))\n",
        "print(\"cum prod:\",np.cumprod(arr2))\n",
        "\n",
        "\n",
        "\n",
        "\n",
        "\n"
      ],
      "metadata": {
        "colab": {
          "base_uri": "https://localhost:8080/"
        },
        "id": "j3dqRsHyH1BC",
        "outputId": "293053ec-fe37-4fc9-8f67-35803b87a0ef"
      },
      "execution_count": null,
      "outputs": [
        {
          "output_type": "stream",
          "name": "stdout",
          "text": [
            "First Array: [[6 1 4]\n",
            " [8 3 9]\n",
            " [7 1 4]]\n",
            "Sum: 43\n",
            "Min: 1\n",
            "Max: 9\n",
            "Mean: 4.777777777777778\n",
            "Median: 4.0\n",
            "Standard Deviation: 2.739739556875101\n",
            "Cum sum: [ 6  7 11 19 22 31 38 39 43]\n",
            "cum prod: [     6      6     24    192    576   5184  36288  36288 145152]\n",
            "____________________\n",
            "Second Array: [[2 7 7]\n",
            " [6 9 7]\n",
            " [1 5 2]]\n",
            "Sum: 46\n",
            "Min: 1\n",
            "Max: 9\n",
            "Mean: 5.111111111111111\n",
            "Median: 6.0\n",
            "Standard Deviation: 2.6434171674156266\n",
            "Cum sum: [ 2  9 16 22 31 38 39 44 46]\n",
            "cum prod: [     2     14     98    588   5292  37044  37044 185220 370440]\n"
          ]
        }
      ]
    },
    {
      "cell_type": "markdown",
      "source": [
        "**5.Create a random NumPy array. Generate mean, mode, median, variance and standard deviation of that array.**"
      ],
      "metadata": {
        "id": "owg5XTcNNH8J"
      }
    },
    {
      "cell_type": "code",
      "source": [
        "import numpy as np\n",
        "import statistics\n",
        "from scipy import stats\n",
        "ran=np.random.randint(1,10,size=(3,3))\n",
        "ran"
      ],
      "metadata": {
        "colab": {
          "base_uri": "https://localhost:8080/"
        },
        "id": "845k4xRGNOsF",
        "outputId": "53096e9f-17dd-4bb8-eb63-e83daa8738a2"
      },
      "execution_count": null,
      "outputs": [
        {
          "output_type": "execute_result",
          "data": {
            "text/plain": [
              "array([[4, 7, 7],\n",
              "       [6, 1, 8],\n",
              "       [3, 8, 1]])"
            ]
          },
          "metadata": {},
          "execution_count": 67
        }
      ]
    },
    {
      "cell_type": "code",
      "source": [
        "print(\"Mean:\",np.mean(ran))\n",
        "print(\"Median:\",np.median(ran))\n",
        "print(\"Mode:\",stats.mode(ran))\n",
        "print(\"Variance:\",np.var(ran))\n",
        "print(\"Standered Deviation:\",np.std(ran))"
      ],
      "metadata": {
        "colab": {
          "base_uri": "https://localhost:8080/"
        },
        "id": "cJ0jm_u7NkKZ",
        "outputId": "e48a06e7-9f58-4f67-c298-ac5febaf8ab1"
      },
      "execution_count": null,
      "outputs": [
        {
          "output_type": "stream",
          "name": "stdout",
          "text": [
            "Mean: 5.0\n",
            "Median: 6.0\n",
            "Mode: ModeResult(mode=array([3, 1, 1]), count=array([1, 1, 1]))\n",
            "Variance: 7.111111111111111\n",
            "Standered Deviation: 2.6666666666666665\n"
          ]
        }
      ]
    },
    {
      "cell_type": "markdown",
      "source": [
        "**6.Create two NumPy arrays of the same length with random numerical values. Compute the correlation coefficient between the two arrays**\n"
      ],
      "metadata": {
        "id": "hNKposJVQUzb"
      }
    },
    {
      "cell_type": "code",
      "source": [
        "import numpy as np\n",
        "ran1=np.random.rand(10)\n",
        "ran2=np.random.rand(10)\n",
        "correlation_matrix=np.corrcoef(ran1,ran2)\n",
        "correlation_coefficient=correlation_matrix[0,1]\n",
        "print(ran1)\n",
        "print(ran2)\n",
        "print(\"correlation coefficient:\",correlation_coefficient)\n",
        "\n"
      ],
      "metadata": {
        "colab": {
          "base_uri": "https://localhost:8080/"
        },
        "id": "Ht2gQ9VaQboh",
        "outputId": "cb62bc99-3185-4010-a7ea-4874d8ac8ff1"
      },
      "execution_count": null,
      "outputs": [
        {
          "output_type": "stream",
          "name": "stdout",
          "text": [
            "[0.97861834 0.79915856 0.46147936 0.78052918 0.11827443 0.63992102\n",
            " 0.14335329 0.94466892 0.52184832 0.41466194]\n",
            "[0.26455561 0.77423369 0.45615033 0.56843395 0.0187898  0.6176355\n",
            " 0.61209572 0.616934   0.94374808 0.6818203 ]\n",
            "correlation coefficient: 0.2137819059107341\n"
          ]
        }
      ]
    },
    {
      "cell_type": "markdown",
      "source": [
        "**7.Create a 2x3 NumPy array with random integers. Multiply each column by a different scalar value without using a loop.**\n"
      ],
      "metadata": {
        "id": "Wn2aroYTR0va"
      }
    },
    {
      "cell_type": "code",
      "source": [
        "import numpy as np\n",
        "arr=np.random.randint(1,11,size=(2,3))\n",
        "print(arr)\n",
        "scalar=np.array([2,4,6])\n",
        "a=arr*scalar\n",
        "print(\"Result:\",a)"
      ],
      "metadata": {
        "colab": {
          "base_uri": "https://localhost:8080/"
        },
        "id": "JtAAhfsRR5qQ",
        "outputId": "85b55495-d8be-49c7-ccf2-e4302f07d4ff"
      },
      "execution_count": null,
      "outputs": [
        {
          "output_type": "stream",
          "name": "stdout",
          "text": [
            "[[ 6  1  2]\n",
            " [ 6 10  4]]\n",
            "Result: [[12  4 12]\n",
            " [12 40 24]]\n"
          ]
        }
      ]
    },
    {
      "cell_type": "markdown",
      "source": [
        "**8.Create a NumPy array with shape (3, 3) filled with random values. Add a scalar value to each element in the array using broadcasting.**\n"
      ],
      "metadata": {
        "id": "XJI9GwIYTNkZ"
      }
    },
    {
      "cell_type": "code",
      "source": [
        "import numpy as np\n",
        "arr=np.random.randint(1,10,(3,3))\n",
        "print(\"Array:\",arr)\n",
        "#scalar=np.array([[[2,4,6],[1,5,7],[8,3,9]]])\n",
        "scalar=np.random.randint(1,10,(3,3))\n",
        "print(\"Scalar:\",scalar)\n",
        "print(\"Result:\",arr+scalar)"
      ],
      "metadata": {
        "colab": {
          "base_uri": "https://localhost:8080/"
        },
        "id": "4x2-JqIDTSgX",
        "outputId": "b102ba92-18ac-49b7-f044-ddc9104ecaeb"
      },
      "execution_count": null,
      "outputs": [
        {
          "output_type": "stream",
          "name": "stdout",
          "text": [
            "Array: [[6 4 2]\n",
            " [9 1 5]\n",
            " [7 6 8]]\n",
            "Scalar: [[9 9 3]\n",
            " [9 7 7]\n",
            " [2 7 9]]\n",
            "Result: [[15 13  5]\n",
            " [18  8 12]\n",
            " [ 9 13 17]]\n"
          ]
        }
      ]
    },
    {
      "cell_type": "markdown",
      "source": [
        "**9.Create two NumPy arrays with unique integer values. Find the intersection of the two sets using NumPy.**\n"
      ],
      "metadata": {
        "id": "rfbVd_qmU9QN"
      }
    },
    {
      "cell_type": "code",
      "source": [
        "import numpy as np\n",
        "arr1=np.array([1,2,3,4,5])\n",
        "arr2=np.array([2,3,5,6,7])\n",
        "intersection=np.intersect1d(arr1,arr2)\n",
        "print(intersection)\n"
      ],
      "metadata": {
        "colab": {
          "base_uri": "https://localhost:8080/"
        },
        "id": "vmbmwWjdVB-y",
        "outputId": "0139ff68-ba9f-467e-c77a-e717eff63538"
      },
      "execution_count": null,
      "outputs": [
        {
          "output_type": "stream",
          "name": "stdout",
          "text": [
            "[2 3 5]\n"
          ]
        }
      ]
    },
    {
      "cell_type": "markdown",
      "source": [
        "**10.Generate two NumPy arrays with integers. Calculate the set difference between the two arrays.**\n"
      ],
      "metadata": {
        "id": "ZaWEpMoyV_Di"
      }
    },
    {
      "cell_type": "code",
      "source": [
        "import numpy as np\n",
        "arr1=np.array([1,2,3,4,5])\n",
        "arr2=np.array([2,3,5,6,7])\n",
        "difference1=np.setdiff1d(arr1,arr2)\n",
        "difference2=np.setdiff1d(arr2,arr1)\n",
        "print(difference1)\n",
        "print(difference2)\n"
      ],
      "metadata": {
        "colab": {
          "base_uri": "https://localhost:8080/"
        },
        "id": "_t3RyiwTWG3e",
        "outputId": "8c380208-b147-4c4e-ba53-b9fd2c5f9e71"
      },
      "execution_count": null,
      "outputs": [
        {
          "output_type": "stream",
          "name": "stdout",
          "text": [
            "[1 4]\n",
            "[6 7]\n"
          ]
        }
      ]
    }
  ]
}