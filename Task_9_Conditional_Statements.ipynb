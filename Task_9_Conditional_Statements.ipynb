{
  "nbformat": 4,
  "nbformat_minor": 0,
  "metadata": {
    "colab": {
      "provenance": []
    },
    "kernelspec": {
      "name": "python3",
      "display_name": "Python 3"
    },
    "language_info": {
      "name": "python"
    }
  },
  "cells": [
    {
      "cell_type": "markdown",
      "source": [
        "**1.A company decided to give a bonus of 5% of their salary to employees if his/her years of service is more than 5 years.\n",
        "Ask the user for their salary and years of service and print the net amount of that person.**\n"
      ],
      "metadata": {
        "id": "cdsW1Wbonua2"
      }
    },
    {
      "cell_type": "code",
      "source": [
        "salary=int(input(\"enter your salary:\"))\n",
        "service=int(input(\"enter your years of services:\"))\n",
        "if service>5:\n",
        "  bonus=0.05*salary\n",
        "  net_amount=(salary+bonus)\n",
        "  print(f\"Your net_salary with bonus is: {net_amount}\")\n",
        "else:\n",
        "  print(salary)"
      ],
      "metadata": {
        "colab": {
          "base_uri": "https://localhost:8080/"
        },
        "id": "lOMEjLlNn2uO",
        "outputId": "4334f093-43e6-4652-e55f-ad79b91a3610"
      },
      "execution_count": null,
      "outputs": [
        {
          "output_type": "stream",
          "name": "stdout",
          "text": [
            "enter your salary:5000\n",
            "enter your years of services:6\n",
            "Your net_salary with bonus is: 5250.0\n"
          ]
        }
      ]
    },
    {
      "cell_type": "markdown",
      "source": [
        "**2.A school has following rules for grading system:**\n",
        "\n",
        "a. Below 25 - F grade\n",
        "\n",
        "b. 25 to 45 - E\n",
        "\n",
        "c. 45 to 50 - D\n",
        "\n",
        "d. 50 to 60 - C\n",
        "\n",
        "e. 60 to 80 - B\n",
        "\n",
        "f. Above 80 - A\n",
        "\n",
        "Ask the user to enter marks and print the corresponding grade.**\n"
      ],
      "metadata": {
        "id": "JCFjMAjrp1cB"
      }
    },
    {
      "cell_type": "code",
      "source": [
        "marks=int(input(\"Enter your marks:\"))\n",
        "if marks<25:\n",
        "  print(\"F grade\")\n",
        "elif 25<=marks<45:\n",
        "  print(\"E grade\")\n",
        "elif 45<=marks<50:\n",
        "  print(\"D grade\")\n",
        "elif 50<=marks<60:\n",
        "  print(\"C grade\")\n",
        "elif 60<=marks<80:\n",
        "  print(\"B grade\")\n",
        "else:\n",
        "  print(\"A grade\")"
      ],
      "metadata": {
        "colab": {
          "base_uri": "https://localhost:8080/"
        },
        "id": "lzcaEepgp8BN",
        "outputId": "95c552a8-8226-4aed-e106-c673e9530c66"
      },
      "execution_count": null,
      "outputs": [
        {
          "output_type": "stream",
          "name": "stdout",
          "text": [
            "Enter your marks:45\n",
            "D grade\n"
          ]
        }
      ]
    },
    {
      "cell_type": "markdown",
      "source": [
        "**3.Create a program that asks the user for their age and nationality. Depending on their age and nationality, display a different message using nested if statements. For example, if they are under 18 and from the USA, display \"You are a minor from the USA.\"**\n"
      ],
      "metadata": {
        "id": "Sry_jAatsP2p"
      }
    },
    {
      "cell_type": "code",
      "source": [
        "age=int(input(\"Enter your age:\"))\n",
        "nationality=input(\"Enter your Nationality:\")\n",
        "if age<18:\n",
        "  if nationality==\"France\":\n",
        "    print(\"Your are a minor from France\")\n",
        "  else:\n",
        "    print(f\"Your minor from: {nationality}\")\n",
        "  if nationality==\"German\":\n",
        "    print(\"You are a minor from Grman\")\n",
        "  else:\n",
        "    print(f\"Your a minor from: {nationality}\")\n",
        "elif age>=18:\n",
        "  if nationality==\"France\":\n",
        "    print(\"Your are a major from France\")\n",
        "  else:\n",
        "    print(f\"Your major from: {nationality}\")\n",
        "  if nationality==\"German\":\n",
        "    print(\"You are a major from Grman\")\n",
        "  else:\n",
        "    print(f\"Your a major from: {nationality}\")\n",
        "else:\n",
        "  print(\"none\")\n"
      ],
      "metadata": {
        "colab": {
          "base_uri": "https://localhost:8080/"
        },
        "id": "WV3yHqfAsXAl",
        "outputId": "5d5dc222-313d-4f22-cae3-a572d1ff0c72"
      },
      "execution_count": null,
      "outputs": [
        {
          "output_type": "stream",
          "name": "stdout",
          "text": [
            "Enter your age:19\n",
            "Enter your Nationality:German\n",
            "Your major from: German\n",
            "You are a major from Grman\n"
          ]
        }
      ]
    },
    {
      "cell_type": "markdown",
      "source": [
        "**4.Using following list of cities per country,**\n",
        "\n",
        "india = [\"mumbai\", \"banglore\", \"chennai\", \"delhi\"]\n",
        "\n",
        "pakistan = [\"lahore\",\"karachi\",\"islamabad\"]\n",
        "\n",
        "bangladesh = [\"dhaka\", \"khulna\", \"rangpur\"]\n"
      ],
      "metadata": {
        "id": "3clpACsM0ZAk"
      }
    },
    {
      "cell_type": "code",
      "source": [
        "india = [\"mumbai\", \"banglore\", \"chennai\", \"delhi\"]\n",
        "\n",
        "pakistan = [\"lahore\",\"karachi\",\"islamabad\"]\n",
        "\n",
        "bangladesh = [\"dhaka\", \"khulna\", \"rangpur\"]\n"
      ],
      "metadata": {
        "id": "MWQwRKeu01iG"
      },
      "execution_count": null,
      "outputs": []
    },
    {
      "cell_type": "markdown",
      "source": [
        "**5.Write a program that asks user to enter a city name and it should tell which country the city belongs to**\n"
      ],
      "metadata": {
        "id": "FfzKrh1c06NZ"
      }
    },
    {
      "cell_type": "code",
      "source": [
        "india = [\"mumbai\", \"banglore\", \"chennai\", \"delhi\"]\n",
        "pakistan = [\"lahore\",\"karachi\",\"islamabad\"]\n",
        "bangladesh = [\"dhaka\", \"khulna\", \"rangpur\"]\n",
        "city=input(\"Enter your city:\")\n",
        "if city in india:\n",
        "  print(f\"{city} belongs to india\")\n",
        "elif city in pakistan:\n",
        "  print(f\"{city} belongs to pakistan\")\n",
        "else:\n",
        "  print(f\"{city} belongs to bangladesh\")\n"
      ],
      "metadata": {
        "colab": {
          "base_uri": "https://localhost:8080/"
        },
        "id": "TFUqjL2w1DBG",
        "outputId": "c5647ba4-9897-4fa3-c418-7d6cbed7683a"
      },
      "execution_count": null,
      "outputs": [
        {
          "output_type": "stream",
          "name": "stdout",
          "text": [
            "Enter your city:karachi\n",
            "karachi belongs to pakistan\n"
          ]
        }
      ]
    },
    {
      "cell_type": "markdown",
      "source": [
        "**6.Write a program that asks the user to enter two cities and it tells you if they both are in the same country or not. For example if I enter mumbai and chennai, it will print \"Both cities are in India\" , but if I enter mumbai and dhaka it should print \"They don't belong to the same country\".**\n"
      ],
      "metadata": {
        "id": "g-089fB76qsO"
      }
    },
    {
      "cell_type": "code",
      "source": [
        "india = [\"mumbai\", \"banglore\", \"chennai\", \"delhi\"]\n",
        "pakistan = [\"lahore\",\"karachi\",\"islamabad\"]\n",
        "bangladesh = [\"dhaka\", \"khulna\", \"rangpur\"]\n",
        "city1=input(\"Enter your first city:\")\n",
        "city2=input(\"Enter your second city:\")\n",
        "if city1 in india and city2 in india:\n",
        "  print(\"Both cities are in india\")\n",
        "elif city1 in pakistan and city2 in pakistan:\n",
        "  print(\"Both cities are in india\")\n",
        "elif city1 in bangladesh and city2 in bangladesh:\n",
        "  print(\"Both cities are in india\")\n",
        "else:\n",
        "  print(\"They dont belong to the same country\")\n"
      ],
      "metadata": {
        "colab": {
          "base_uri": "https://localhost:8080/"
        },
        "id": "vVtEiNJO6zji",
        "outputId": "aea27831-4d2d-4bdd-f04d-007f0b4f02a8"
      },
      "execution_count": null,
      "outputs": [
        {
          "output_type": "stream",
          "name": "stdout",
          "text": [
            "Enter your first city:,mumbai\n",
            "Enter your second city:karachi\n",
            "They dont belong to the same country\n"
          ]
        }
      ]
    },
    {
      "cell_type": "markdown",
      "source": [
        "**7.Write a program which will accept a word and a number from the user. Check if the word starts with a vowel and the number is even and write appropriate conditions accordingly (Case sensitivity should not matter).**\n",
        "\n",
        "Example :\n",
        "\n",
        "Innoamtics, 6 --- both the conditions are satisfied\n",
        "\n",
        "innomatics, 5--- at least one condition is satisfied\n",
        "\n",
        "Ramya, 6--- at least one condition is satisfied\n"
      ],
      "metadata": {
        "id": "DB7KpCzh85-k"
      }
    },
    {
      "cell_type": "code",
      "source": [
        "word=input(\"enter a word:\")\n",
        "number=input(\"enter a number:\")\n",
        "vowels=\"aeiouAEIOU\"\n",
        "if word[0] in vowels and int(number)%2==0:\n",
        "  print(\"both the conditions are satisfied\")\n",
        "elif word[0] in vowels or int(number)%2==0:\n",
        "  print(\"at least one condition is satisfied\")\n",
        "else:\n",
        "  print(\"none\")\n",
        "\n",
        "\n"
      ],
      "metadata": {
        "colab": {
          "base_uri": "https://localhost:8080/"
        },
        "id": "e5OPkxV7DgNi",
        "outputId": "9ab2fd80-460b-41dd-a123-9b9a6460023c"
      },
      "execution_count": null,
      "outputs": [
        {
          "output_type": "stream",
          "name": "stdout",
          "text": [
            "enter a word:innomatics\n",
            "enter a number:5\n",
            "at least one condition is satisfied\n"
          ]
        }
      ]
    },
    {
      "cell_type": "markdown",
      "source": [
        "**8.Write a Python function find_largest(a, b, c) that takes three integers as input and returns the\n",
        "largest of the three numbers.**\n"
      ],
      "metadata": {
        "id": "3aerjUH2D66t"
      }
    },
    {
      "cell_type": "code",
      "source": [
        "a=int(input(\"Enter first number:\"))\n",
        "b=int(input(\"Enter second number:\"))\n",
        "c=int(input(\"Enter third number:\"))\n",
        "if a>b and a>c:\n",
        "  print(f\"{a} is the largest number\")\n",
        "elif b>a and b>c:\n",
        "  print(f\"{b} is the largest number\")\n",
        "else:\n",
        "  print(f\"{c} is the largest number\")"
      ],
      "metadata": {
        "colab": {
          "base_uri": "https://localhost:8080/"
        },
        "id": "82xVlihUEESB",
        "outputId": "b53d7683-8916-457e-ae0e-0a66e5934939"
      },
      "execution_count": null,
      "outputs": [
        {
          "output_type": "stream",
          "name": "stdout",
          "text": [
            "Enter first number:10\n",
            "Enter second number:5\n",
            "Enter third number:19\n",
            "19 is the largest number\n"
          ]
        }
      ]
    },
    {
      "cell_type": "markdown",
      "source": [
        "**9.Write a Python function check_character(char) that takes a single character as input and returns 'Vowel' if the character is a vowel (a, e, i, o, u), and 'Consonant' if it is a consonant. The function should handle both uppercase and lowercase characters.**\n"
      ],
      "metadata": {
        "id": "FOVta_4AFk8z"
      }
    },
    {
      "cell_type": "code",
      "source": [
        "char=input(\"Enter a character:\")\n",
        "vowels=\"aeiouAEIOU\"\n",
        "if len(char)==1:\n",
        "  if char in vowels:\n",
        "    print(\"Vowel\")\n",
        "  else:\n",
        "    print(\"Consonant\")\n",
        "else:\n",
        "  print(\"Invalid char\")"
      ],
      "metadata": {
        "colab": {
          "base_uri": "https://localhost:8080/"
        },
        "id": "2TIN_NdBFqcU",
        "outputId": "6fa4fbe4-2211-4843-bb31-db6a16ac0215"
      },
      "execution_count": null,
      "outputs": [
        {
          "output_type": "stream",
          "name": "stdout",
          "text": [
            "Enter a character:o\n",
            "Vowel\n"
          ]
        }
      ]
    },
    {
      "cell_type": "markdown",
      "source": [
        "**10.Write a Python function simple_calculator(op, a, b) that takes an operator (op as a string) and two numbers (a and b) as input. Perform the specified operation (addition, subtraction, multiplication, or division) based on the operator and return the result. If the operator is not recognized, return 'Invalid operator'.**\n",
        "\n",
        "Ex: simple_calculator('+', 10, 5)  # Output: 15\n"
      ],
      "metadata": {
        "id": "7xEsjp-9G2uE"
      }
    },
    {
      "cell_type": "code",
      "source": [
        "a=int(input(\"Enter firdst number:\"))\n",
        "b=int(input(\"Enter second number:\"))\n",
        "op=input(\"Enter an operator:\")\n",
        "if op==\"+\":\n",
        "  print(a+b)\n",
        "elif op==\"-\":\n",
        "  print(a-b)\n",
        "elif op==\"*\":\n",
        "  print(a*b)\n",
        "elif op==\"/\":\n",
        "  print(a/b)\n",
        "else:\n",
        "  print(\"Invalid operator\")"
      ],
      "metadata": {
        "colab": {
          "base_uri": "https://localhost:8080/"
        },
        "id": "gObCLhI3HEdu",
        "outputId": "ffb75626-3d4f-4126-98ce-d5690d2bd670"
      },
      "execution_count": null,
      "outputs": [
        {
          "output_type": "stream",
          "name": "stdout",
          "text": [
            "Enter firdst number:9\n",
            "Enter second number:3\n",
            "Enter an operator:/\n",
            "3.0\n"
          ]
        }
      ]
    },
    {
      "cell_type": "markdown",
      "source": [
        "**11.Write a Python program for  age_group(age) that takes an age as input and returns the appropriate age group as a string:**\n",
        "\n",
        "'Child' for ages less than 13\n",
        "\n",
        "'Teenager' for ages 13 to 19\n",
        "\n",
        "'Adult' for ages 20 to 64\n",
        "\n",
        "'Senior' for ages 65 and above\n"
      ],
      "metadata": {
        "id": "EK4K0OE7IK4L"
      }
    },
    {
      "cell_type": "code",
      "source": [
        "age=int(input(\"Enter your age:\"))\n",
        "if age<13:\n",
        "  print(\"child\")\n",
        "elif 13<=age<=19:\n",
        "  print(\"Teenager\")\n",
        "elif 20<=age<=64:\n",
        "  print(\"Adult\")\n",
        "else:\n",
        "  print(\"Senior\")"
      ],
      "metadata": {
        "colab": {
          "base_uri": "https://localhost:8080/"
        },
        "id": "cP3bLitPIWLU",
        "outputId": "ce3dff14-2294-44cf-870a-da5b84623da2"
      },
      "execution_count": null,
      "outputs": [
        {
          "output_type": "stream",
          "name": "stdout",
          "text": [
            "Enter your age:70\n",
            "Senior\n"
          ]
        }
      ]
    }
  ]
}