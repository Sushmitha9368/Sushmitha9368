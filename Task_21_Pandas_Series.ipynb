{
  "nbformat": 4,
  "nbformat_minor": 0,
  "metadata": {
    "colab": {
      "provenance": []
    },
    "kernelspec": {
      "name": "python3",
      "display_name": "Python 3"
    },
    "language_info": {
      "name": "python"
    }
  },
  "cells": [
    {
      "cell_type": "markdown",
      "source": [
        "**1.Create a Pandas Series from a list and perform the following tasks:\n",
        "Print the entire series.**\n",
        "\n",
        "* Print the first 3 elements of the series.\n",
        "* Print the last 2 elements of the series.\n"
      ],
      "metadata": {
        "id": "JSRVLC8PXwSR"
      }
    },
    {
      "cell_type": "code",
      "execution_count": 2,
      "metadata": {
        "colab": {
          "base_uri": "https://localhost:8080/"
        },
        "id": "O0S0rFKOXoma",
        "outputId": "abe8df8e-e7a5-47fa-c30d-9720e11c041b"
      },
      "outputs": [
        {
          "output_type": "stream",
          "name": "stdout",
          "text": [
            "0    1\n",
            "1    2\n",
            "2    3\n",
            "3    4\n",
            "4    5\n",
            "5    6\n",
            "6    7\n",
            "7    8\n",
            "dtype: int64\n"
          ]
        }
      ],
      "source": [
        "import pandas as pd\n",
        "l=[1,2,3,4,5,6,7,8]\n",
        "s=pd.Series(l)\n",
        "print(s)\n"
      ]
    },
    {
      "cell_type": "code",
      "source": [
        "# first 3 elements of the series\n",
        "print(s[0:3])"
      ],
      "metadata": {
        "colab": {
          "base_uri": "https://localhost:8080/"
        },
        "id": "3ayz0bOyYt7E",
        "outputId": "b2469c3e-9ae7-4995-dc63-76807530a400"
      },
      "execution_count": 7,
      "outputs": [
        {
          "output_type": "stream",
          "name": "stdout",
          "text": [
            "0    1\n",
            "1    2\n",
            "2    3\n",
            "dtype: int64\n"
          ]
        }
      ]
    },
    {
      "cell_type": "code",
      "source": [
        "#Last 2 elements of the series\n",
        "print(s[-2:])\n"
      ],
      "metadata": {
        "colab": {
          "base_uri": "https://localhost:8080/"
        },
        "id": "roBW9aZvZBrY",
        "outputId": "83ed69a7-2cc3-43df-f6a3-b04147a50f03"
      },
      "execution_count": 6,
      "outputs": [
        {
          "output_type": "stream",
          "name": "stdout",
          "text": [
            "6    7\n",
            "7    8\n",
            "dtype: int64\n"
          ]
        }
      ]
    },
    {
      "cell_type": "markdown",
      "source": [
        "**2.Create two Pandas Series with different data types (numeric and string) and perform the following tasks:**\n",
        "\n",
        "* Concatenate the two series into a single series.\n",
        "\n",
        "* Calculate the mean of the numeric series.\n"
      ],
      "metadata": {
        "id": "UVa2eMOAevMF"
      }
    },
    {
      "cell_type": "code",
      "source": [
        "import pandas as pd\n",
        "a=pd.Series([1,2,3,4,5])\n",
        "b=pd.Series([\"a\",\"b\",\"c\",\"d\",\"e\"])\n",
        "print(a)\n",
        "print(b)\n",
        "#Concatenate two series into single series\n",
        "c=pd.concat([a,b],ignore_index=True)\n",
        "print(c)"
      ],
      "metadata": {
        "colab": {
          "base_uri": "https://localhost:8080/"
        },
        "id": "ptTxgjK0e2Td",
        "outputId": "ab0f905e-b22a-4c96-b5f6-37a1077e1917"
      },
      "execution_count": 12,
      "outputs": [
        {
          "output_type": "stream",
          "name": "stdout",
          "text": [
            "0    1\n",
            "1    2\n",
            "2    3\n",
            "3    4\n",
            "4    5\n",
            "dtype: int64\n",
            "0    a\n",
            "1    b\n",
            "2    c\n",
            "3    d\n",
            "4    e\n",
            "dtype: object\n",
            "0    1\n",
            "1    2\n",
            "2    3\n",
            "3    4\n",
            "4    5\n",
            "5    a\n",
            "6    b\n",
            "7    c\n",
            "8    d\n",
            "9    e\n",
            "dtype: object\n"
          ]
        }
      ]
    },
    {
      "cell_type": "code",
      "source": [
        "#Mean of numerical series\n",
        "Mean=a.mean()\n",
        "print(Mean)"
      ],
      "metadata": {
        "colab": {
          "base_uri": "https://localhost:8080/"
        },
        "id": "XCeSKshEhEjU",
        "outputId": "84e0f92b-7707-469d-9641-d8fcf0b49927"
      },
      "execution_count": 13,
      "outputs": [
        {
          "output_type": "stream",
          "name": "stdout",
          "text": [
            "3.0\n"
          ]
        }
      ]
    },
    {
      "cell_type": "markdown",
      "source": [
        "**3.create a Pandas Series with data from a dictionary and perform the following tasks:**\n",
        "\n",
        "* Print the series.\n",
        "\n",
        "* Check if a specific index exists in the series.\n",
        "\n",
        "* Add a new element to the series with a new index.\n",
        "\n",
        "\n"
      ],
      "metadata": {
        "id": "oER_2CxmhVyR"
      }
    },
    {
      "cell_type": "code",
      "source": [
        "import pandas as pd\n",
        "dict={\"a\":1,\"b\":2,\"c\":3,\"d\":4}\n",
        "s=pd.Series(dict)\n",
        "print(s)"
      ],
      "metadata": {
        "colab": {
          "base_uri": "https://localhost:8080/"
        },
        "id": "z4R_AEpFhiZI",
        "outputId": "8a2f5aa5-4cee-46bf-8a50-69d9a373dfcc"
      },
      "execution_count": 14,
      "outputs": [
        {
          "output_type": "stream",
          "name": "stdout",
          "text": [
            "a    1\n",
            "b    2\n",
            "c    3\n",
            "d    4\n",
            "dtype: int64\n"
          ]
        }
      ]
    },
    {
      "cell_type": "code",
      "source": [
        "#Check if a specific index exists in the series\n",
        "print(\"a\" in s)\n"
      ],
      "metadata": {
        "colab": {
          "base_uri": "https://localhost:8080/"
        },
        "id": "DPvk5jstibdi",
        "outputId": "243bee5f-988a-424d-830e-32ca08b9c09e"
      },
      "execution_count": 24,
      "outputs": [
        {
          "output_type": "stream",
          "name": "stdout",
          "text": [
            "True\n"
          ]
        }
      ]
    },
    {
      "cell_type": "code",
      "source": [
        "#Add a new element to the series with a new index\n",
        "s[\"e\"]=5\n",
        "print(s)\n",
        "s[\"a\"]=10\n",
        "print(s)"
      ],
      "metadata": {
        "colab": {
          "base_uri": "https://localhost:8080/"
        },
        "id": "G2sF15jdj_Im",
        "outputId": "0d74bc42-7060-417e-b5d2-7a5de22a7dc0"
      },
      "execution_count": 28,
      "outputs": [
        {
          "output_type": "stream",
          "name": "stdout",
          "text": [
            "a    1\n",
            "b    2\n",
            "c    3\n",
            "d    4\n",
            "e    5\n",
            "dtype: int64\n",
            "a    10\n",
            "b     2\n",
            "c     3\n",
            "d     4\n",
            "e     5\n",
            "dtype: int64\n"
          ]
        }
      ]
    }
  ]
}